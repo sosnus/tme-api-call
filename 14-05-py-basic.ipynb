{
 "cells": [
  {
   "cell_type": "code",
   "execution_count": 11,
   "metadata": {},
   "outputs": [
    {
     "name": "stdout",
     "output_type": "stream",
     "text": [
      "#1 wprowadzamy wartości zmiennych\n",
      "a= 6  b= -2  c= 81\n"
     ]
    }
   ],
   "source": [
    "import math\n",
    "print(\"#1 wprowadzamy wartości zmiennych\")\n",
    "a= 6\n",
    "b= -2\n",
    "c= 81\n",
    "print(\"a=\",a, \" b=\",b, \" c=\",c)"
   ]
  },
  {
   "cell_type": "code",
   "execution_count": 12,
   "metadata": {},
   "outputs": [
    {
     "name": "stdout",
     "output_type": "stream",
     "text": [
      "#2 obliczamy wartość delty\n",
      "-1940\n"
     ]
    }
   ],
   "source": [
    "print(\"#2 obliczamy wartość delty\")\n",
    "delta=(b*b)-(4*a*c)\n",
    "print(delta)\n"
   ]
  },
  {
   "cell_type": "code",
   "execution_count": 13,
   "metadata": {},
   "outputs": [
    {
     "name": "stdout",
     "output_type": "stream",
     "text": [
      "#3 czy wartość delty jest większa od 0?\n",
      "delta nie jest większa od zera\n",
      "delta jest mniejsza od zera\n"
     ]
    }
   ],
   "source": [
    "print(\"#3 czy wartość delty jest większa od 0?\")\n",
    "if delta>0:\n",
    "    print(\"delta większa od 0\")\n",
    "else:\n",
    "    print(\"delta nie jest większa od zera\")\n",
    "    if delta==0:\n",
    "        print(\"delta równa zero\")\n",
    "    else:\n",
    "        print(\"delta jest mniejsza od zera\")"
   ]
  },
  {
   "cell_type": "code",
   "execution_count": null,
   "metadata": {},
   "outputs": [],
   "source": [
    "x2= (-b+math.pow(delta,0.5))/2*a\n",
    "x2"
   ]
  },
  {
   "cell_type": "code",
   "execution_count": 22,
   "metadata": {},
   "outputs": [],
   "source": [
    "if 0:\n",
    "    print(22222)"
   ]
  },
  {
   "cell_type": "code",
   "execution_count": null,
   "metadata": {},
   "outputs": [],
   "source": [
    "\n",
    "x1=(-b-math.pow(delta,0.5))/2*a\n",
    "x1"
   ]
  }
 ],
 "metadata": {
  "kernelspec": {
   "display_name": "Python 3",
   "language": "python",
   "name": "python3"
  },
  "language_info": {
   "codemirror_mode": {
    "name": "ipython",
    "version": 3
   },
   "file_extension": ".py",
   "mimetype": "text/x-python",
   "name": "python",
   "nbconvert_exporter": "python",
   "pygments_lexer": "ipython3",
   "version": "3.6.7"
  }
 },
 "nbformat": 4,
 "nbformat_minor": 1
}
