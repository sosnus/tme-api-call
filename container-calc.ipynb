{
  "cells": [
    {
      "metadata": {
        "trusted": true
      },
      "cell_type": "code",
      "source": "x1 = 4\ny1 = 2\nz1 = 3\n\nx2 = 0.5 \ny2 = 0.2\nz2 = 0.25\n\nq = 12345",
      "execution_count": 30,
      "outputs": []
    },
    {
      "metadata": {
        "trusted": true
      },
      "cell_type": "code",
      "source": "print(\"ile pudełek mieści się na długość, szerokość, wysokość?\")\nxCnt = int(x1/x2)\nyCnt = int(y1/y2)\nzCnt = int(z1/z2)\nprint(\"Odp: liczba pudełek: długość=\",xCnt,\" szerokość=\",yCnt,\" wysokość?\", zCnt)\n\nprint(\"ile pudełek zmieści się w jednym kontenerze?\")\ncontainerCapacity = xCnt * yCnt * zCnt\nprint(\"odp: \",containerCapacity)",
      "execution_count": 31,
      "outputs": [
        {
          "output_type": "stream",
          "text": "ile pudełek mieści się na długość, szerokość, wysokość?\nOdp: liczba pudełek: długość= 8  szerokość= 10  wysokość? 12\nile pudełek zmieści się w jednym kontenerze?\nodp:  960\n",
          "name": "stdout"
        }
      ]
    },
    {
      "metadata": {
        "trusted": true
      },
      "cell_type": "code",
      "source": "print(\"ile mamy pudełek, ile potrzebujemy kontenerów?\")\ncontainerCnt = q / containerCapacity\nprint(containerCnt)\nif containerCnt > int(containerCnt):\n        containerCnt = int(containerCnt)+1\n        \nprint(\"Odp: potrzebujemy\", containerCnt , \"kontenerów\")",
      "execution_count": 33,
      "outputs": [
        {
          "output_type": "stream",
          "text": "ile mamy pudełek, ile potrzebujemy kontenerów?\n12.859375\nOdp: potrzebujemy 13 kontenerów\n",
          "name": "stdout"
        }
      ]
    },
    {
      "metadata": {
        "trusted": true
      },
      "cell_type": "code",
      "source": "",
      "execution_count": null,
      "outputs": []
    },
    {
      "metadata": {
        "trusted": true
      },
      "cell_type": "code",
      "source": "",
      "execution_count": null,
      "outputs": []
    }
  ],
  "metadata": {
    "kernelspec": {
      "name": "python3",
      "display_name": "Python 3",
      "language": "python"
    },
    "language_info": {
      "mimetype": "text/x-python",
      "nbconvert_exporter": "python",
      "name": "python",
      "pygments_lexer": "ipython3",
      "version": "3.5.4",
      "file_extension": ".py",
      "codemirror_mode": {
        "version": 3,
        "name": "ipython"
      }
    }
  },
  "nbformat": 4,
  "nbformat_minor": 1
}