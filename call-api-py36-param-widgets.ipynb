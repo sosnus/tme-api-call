{
  "cells": [
    {
      "metadata": {
        "trusted": true
      },
      "cell_type": "code",
      "source": "import ipywidgets as widgets\nprint(\"#1 insert client data: token, app_secret, part list\")\ntbToken = widgets.Text(\n    placeholder='Anonymous key here (token)',\n    description='token =',\n    value='b64100390e3d1cf5deb5389147e91f64e85da13a37cb3'\n)\n\ntbAppSecret = widgets.Text(\n    placeholder='Application secret: here (app_secret)',\n    description='app_secret =',\n    value='44dc34e355e9cd744949'\n)\n\ntbPartList = widgets.Textarea(\n    placeholder='Part list (new line separated)',\n    description='part list =',\n    value='NE555D\\n1N4007-DC\\nBTM-222'\n)\n\ndisplay(tbToken)\ndisplay(tbAppSecret)\ndisplay(tbPartList)",
      "execution_count": 2,
      "outputs": [
        {
          "output_type": "stream",
          "text": "#1 insert client data: token, app_secret, part list\n",
          "name": "stdout"
        },
        {
          "output_type": "display_data",
          "data": {
            "application/vnd.jupyter.widget-view+json": {
              "model_id": "167dd2e2647a4edf9aea576c6e7cbd33",
              "version_minor": 0,
              "version_major": 2
            },
            "text/plain": "Text(value='b64100390e3d1cf5deb5389147e91f64e85da13a37cb3', description='token =', placeholder='Anonymous key …"
          },
          "metadata": {}
        },
        {
          "output_type": "display_data",
          "data": {
            "application/vnd.jupyter.widget-view+json": {
              "model_id": "8f1e086440e048aa899a8f4f6aebd19f",
              "version_minor": 0,
              "version_major": 2
            },
            "text/plain": "Text(value='44dc34e355e9cd744949', description='app_secret =', placeholder='Application secret: here (app_secr…"
          },
          "metadata": {}
        },
        {
          "output_type": "display_data",
          "data": {
            "application/vnd.jupyter.widget-view+json": {
              "model_id": "a8a9965c3b064786ba98e9bd2efc2607",
              "version_minor": 0,
              "version_major": 2
            },
            "text/plain": "Textarea(value='NE555D\\n1N4007-DC\\nBTM-222', description='part list =', placeholder='Part list (new line separ…"
          },
          "metadata": {}
        }
      ]
    },
    {
      "metadata": {
        "trusted": true
      },
      "cell_type": "code",
      "source": "import json\nprint(\"#2 parse part list\")\ns = tbPartList.value\nparams = {}\nfor item in s.split(\"\\n\"):\n    params[\"SymbolList[\"+str(len(params))+\"]\" ] = item\nprint(json.dumps(params, indent=4, sort_keys=True))",
      "execution_count": 3,
      "outputs": [
        {
          "output_type": "stream",
          "text": "#2 parse part list\n{\n    \"SymbolList[0]\": \"NE555D\",\n    \"SymbolList[1]\": \"1N4007-DC\",\n    \"SymbolList[2]\": \"BTM-222\"\n}\n",
          "name": "stdout"
        }
      ]
    },
    {
      "metadata": {
        "trusted": true
      },
      "cell_type": "code",
      "source": "print(\"#3 add others parameters to dict\")\nparams['Country']='PL'\nparams['Language']='PL'\nparams['Currency']='PLN' ### new!\nparams\n",
      "execution_count": 4,
      "outputs": [
        {
          "output_type": "stream",
          "text": "#3 add others parameters to dict\n",
          "name": "stdout"
        },
        {
          "output_type": "execute_result",
          "execution_count": 4,
          "data": {
            "text/plain": "{'SymbolList[0]': 'NE555D',\n 'SymbolList[1]': '1N4007-DC',\n 'SymbolList[2]': 'BTM-222',\n 'Country': 'PL',\n 'Language': 'PL',\n 'Currency': 'PLN'}"
          },
          "metadata": {}
        }
      ]
    },
    {
      "metadata": {
        "trusted": true
      },
      "cell_type": "code",
      "source": "print(\"#4 prepare signature_base (for api_signature)\")\n# add token\nparams['Token']=tbToken.value\n# sort all\nfrom collections import OrderedDict\nparams = OrderedDict(sorted(params.items()));\n# encode params\nimport urllib.parse\nencoded_params = urllib.parse.urlencode(params, '')\n# api addr\napi_url = 'https://api.tme.eu/Products/GetStocks.json'\nimport urllib.parse\nsignature_base = 'POST' + '&' + urllib.parse.quote(api_url, '') + '&' + urllib.parse.quote(encoded_params, '')\n# print(signature_base)",
      "execution_count": 5,
      "outputs": [
        {
          "output_type": "stream",
          "text": "#4 prepare signature_base (for api_signature)\n",
          "name": "stdout"
        }
      ]
    },
    {
      "metadata": {
        "trusted": true
      },
      "cell_type": "code",
      "source": "print(\"#5 generate api_signature (input data: signature_base, app_secret)\")\nimport base64, hmac, hashlib\napp_secret_bytes = str.encode(tbAppSecret.value)\nsignature_base_bytes = str.encode(signature_base)\napi_signature = base64.encodebytes(hmac.new(app_secret_bytes, signature_base_bytes, hashlib.sha1).digest()).rstrip()\n# print(api_signature)",
      "execution_count": 6,
      "outputs": [
        {
          "output_type": "stream",
          "text": "#5 generate api_signature (input data: signature_base, app_secret)\n",
          "name": "stdout"
        }
      ]
    },
    {
      "metadata": {
        "trusted": true
      },
      "cell_type": "code",
      "source": "print(\"#6 add api_signature to params and send HTTP request\")\nimport requests, json\n\nparams['ApiSignature'] = api_signature\n\nheaders = {\n    'Content-Type': \"application/x-www-form-urlencoded\"\n    }\n\nresponse = requests.request(\"POST\", api_url, data=params, headers=headers)\nresponse.text",
      "execution_count": 7,
      "outputs": [
        {
          "output_type": "stream",
          "text": "#6 add api_signature to params and send HTTP request\n",
          "name": "stdout"
        },
        {
          "output_type": "execute_result",
          "execution_count": 7,
          "data": {
            "text/plain": "'{\"Status\":\"OK\",\"Data\":{\"ProductList\":[{\"Symbol\":\"1N4007-DC\",\"Amount\":1736760,\"Unit\":\"szt\"},{\"Symbol\":\"BTM-222\",\"Amount\":0,\"Unit\":\"szt\"},{\"Symbol\":\"NE555D\",\"Amount\":14618,\"Unit\":\"szt\"}]}}'"
          },
          "metadata": {}
        }
      ]
    },
    {
      "metadata": {
        "trusted": true
      },
      "cell_type": "code",
      "source": "print(\"#7 extrad necessary data from HTTP respond\")\nextracted_data = json.loads(response.text)\nextracted_data = extracted_data['Data']\nextracted_data = extracted_data['ProductList']\nprint(json.dumps(extracted_data, indent=4, sort_keys=True))",
      "execution_count": 8,
      "outputs": [
        {
          "output_type": "stream",
          "text": "#7 extrad necessary data from HTTP respond\n[\n    {\n        \"Amount\": 1736760,\n        \"Symbol\": \"1N4007-DC\",\n        \"Unit\": \"szt\"\n    },\n    {\n        \"Amount\": 0,\n        \"Symbol\": \"BTM-222\",\n        \"Unit\": \"szt\"\n    },\n    {\n        \"Amount\": 14618,\n        \"Symbol\": \"NE555D\",\n        \"Unit\": \"szt\"\n    }\n]\n",
          "name": "stdout"
        }
      ]
    },
    {
      "metadata": {
        "trusted": true
      },
      "cell_type": "code",
      "source": "print(\"#8 data presentation\")\nfrom pandas.io.json import json_normalize\njson_normalize(extracted_data)",
      "execution_count": 9,
      "outputs": [
        {
          "output_type": "stream",
          "text": "#8 data presentation\n",
          "name": "stdout"
        },
        {
          "output_type": "execute_result",
          "execution_count": 9,
          "data": {
            "text/html": "<div>\n<style scoped>\n    .dataframe tbody tr th:only-of-type {\n        vertical-align: middle;\n    }\n\n    .dataframe tbody tr th {\n        vertical-align: top;\n    }\n\n    .dataframe thead th {\n        text-align: right;\n    }\n</style>\n<table border=\"1\" class=\"dataframe\">\n  <thead>\n    <tr style=\"text-align: right;\">\n      <th></th>\n      <th>Amount</th>\n      <th>Symbol</th>\n      <th>Unit</th>\n    </tr>\n  </thead>\n  <tbody>\n    <tr>\n      <th>0</th>\n      <td>1736760</td>\n      <td>1N4007-DC</td>\n      <td>szt</td>\n    </tr>\n    <tr>\n      <th>1</th>\n      <td>0</td>\n      <td>BTM-222</td>\n      <td>szt</td>\n    </tr>\n    <tr>\n      <th>2</th>\n      <td>14618</td>\n      <td>NE555D</td>\n      <td>szt</td>\n    </tr>\n  </tbody>\n</table>\n</div>",
            "text/plain": "    Amount     Symbol Unit\n0  1736760  1N4007-DC  szt\n1        0    BTM-222  szt\n2    14618     NE555D  szt"
          },
          "metadata": {}
        }
      ]
    },
    {
      "metadata": {
        "trusted": true
      },
      "cell_type": "code",
      "source": "",
      "execution_count": null,
      "outputs": []
    }
  ],
  "metadata": {
    "kernelspec": {
      "name": "python36",
      "display_name": "Python 3.6",
      "language": "python"
    },
    "language_info": {
      "mimetype": "text/x-python",
      "nbconvert_exporter": "python",
      "name": "python",
      "pygments_lexer": "ipython3",
      "version": "3.6.6",
      "file_extension": ".py",
      "codemirror_mode": {
        "version": 3,
        "name": "ipython"
      }
    }
  },
  "nbformat": 4,
  "nbformat_minor": 1
}